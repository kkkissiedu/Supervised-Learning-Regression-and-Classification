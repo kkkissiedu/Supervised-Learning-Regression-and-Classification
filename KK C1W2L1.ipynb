{
 "cells": [
  {
   "cell_type": "code",
   "execution_count": 12,
   "id": "2aacca68-bd8c-4695-b7b3-ace4e9b85622",
   "metadata": {},
   "outputs": [],
   "source": [
    "import numpy as np\n",
    "import time"
   ]
  },
  {
   "cell_type": "markdown",
   "id": "30626174-fc1b-4a72-96b2-b443553cd89c",
   "metadata": {},
   "source": [
    "Vectors"
   ]
  },
  {
   "cell_type": "code",
   "execution_count": 23,
   "id": "3e3d788b-d703-4761-8ec9-3799ca994b95",
   "metadata": {},
   "outputs": [
    {
     "name": "stdout",
     "output_type": "stream",
     "text": [
      "np.zeros(6) = [0. 0. 0. 0. 0. 0.], a shape = (6,), a data type = float64\n",
      "np.random.rand(4) = [0.6551188  0.91372017 0.95675787 0.95317745], a shape = (4,), a data type = float64\n",
      "np.arange(4.) = [0. 1. 2. 3.], [0. 1. 2. 3.], a shape = (4,), a data type = float64\n"
     ]
    }
   ],
   "source": [
    "a = np.zeros(6); print(f'np.zeros(6) = {a}, a shape = {a.shape}, a data type = {a.dtype}')\n",
    "a = np.random.rand(4); print(f'np.random.rand(4) = {a}, a shape = {a.shape}, a data type = {a.dtype}')\n",
    "a = np.arange(4.); print(f'np.arange(4.) = {a}, {a}, a shape = {a.shape}, a data type = {a.dtype}')\n",
    "### The period added to the np.arange(4.) changes the data type of the array from integers to floats."
   ]
  },
  {
   "cell_type": "markdown",
   "id": "6229ee5e-5854-4cc6-b9f7-86f02e2a2813",
   "metadata": {},
   "source": [
    "Vector Indexing"
   ]
  },
  {
   "cell_type": "code",
   "execution_count": 40,
   "id": "898872b0-79e2-4737-8de5-fe9a5439491f",
   "metadata": {},
   "outputs": [
    {
     "name": "stdout",
     "output_type": "stream",
     "text": [
      "a[2] = 2\n",
      "a[-1] = 9\n"
     ]
    }
   ],
   "source": [
    "a = np.arange(10)\n",
    "print(f'a[2] = {a[2]}')\n",
    "print(f'a[-1] = {a[-1]}'); ###Indexing with -1 will print the last item in the array, counting starts from the last value"
   ]
  },
  {
   "cell_type": "markdown",
   "id": "0247437e-3d1f-4d68-9dc5-80912dc5268c",
   "metadata": {},
   "source": [
    "Exception Handling"
   ]
  },
  {
   "cell_type": "code",
   "execution_count": 60,
   "id": "e5095297-bcc4-4572-8177-523ddb27aaca",
   "metadata": {},
   "outputs": [
    {
     "name": "stdout",
     "output_type": "stream",
     "text": [
      "The error message you will see is:\n",
      "index 10 is out of bounds for axis 0 with size 10\n"
     ]
    }
   ],
   "source": [
    "try:\n",
    "    c = a[10]\n",
    "\n",
    "###This code will catch any exception and print out the error code\n",
    "\n",
    "except Exception as e:\n",
    "    print('The error message you will see is:')\n",
    "    print(e)\n",
    "\n",
    "    "
   ]
  },
  {
   "cell_type": "code",
   "execution_count": null,
   "id": "5678fd2a-312b-4b2a-93aa-8a8f1b916e62",
   "metadata": {},
   "outputs": [],
   "source": []
  }
 ],
 "metadata": {
  "kernelspec": {
   "display_name": "Python [conda env:base] *",
   "language": "python",
   "name": "conda-base-py"
  },
  "language_info": {
   "codemirror_mode": {
    "name": "ipython",
    "version": 3
   },
   "file_extension": ".py",
   "mimetype": "text/x-python",
   "name": "python",
   "nbconvert_exporter": "python",
   "pygments_lexer": "ipython3",
   "version": "3.12.4"
  }
 },
 "nbformat": 4,
 "nbformat_minor": 5
}
